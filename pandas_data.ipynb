{
 "cells": [
  {
   "cell_type": "code",
   "execution_count": 4,
   "id": "e53ceb70",
   "metadata": {},
   "outputs": [],
   "source": [
    "# requiered packages: pandas, lxml\n",
    "\n",
    "import pandas as pd"
   ]
  },
  {
   "cell_type": "code",
   "execution_count": null,
   "id": "6590b00e",
   "metadata": {},
   "outputs": [],
   "source": [
    "url = 'https://www.oetv.at/rangliste/itn.html'\n",
    "table = pd.read_html(url)\n",
    "# pandas reads with read_html methode the url and saves all tables in a list\n",
    "\n",
    "print(len(table)) # print the number of tables saved"
   ]
  },
  {
   "cell_type": "code",
   "execution_count": null,
   "id": "4adb4da9",
   "metadata": {},
   "outputs": [],
   "source": [
    "\n",
    "print(table[0]) #print first table"
   ]
  }
 ],
 "metadata": {
  "kernelspec": {
   "display_name": "oetv",
   "language": "python",
   "name": "python3"
  },
  "language_info": {
   "codemirror_mode": {
    "name": "ipython",
    "version": 3
   },
   "file_extension": ".py",
   "mimetype": "text/x-python",
   "name": "python",
   "nbconvert_exporter": "python",
   "pygments_lexer": "ipython3",
   "version": "3.10.6 (main, Oct 24 2022, 11:04:34) [Clang 12.0.0 ]"
  },
  "vscode": {
   "interpreter": {
    "hash": "1543e8f0d100ed1396280aca419e1208a99dd86e15a356103f63112409fe9f33"
   }
  }
 },
 "nbformat": 4,
 "nbformat_minor": 5
}
