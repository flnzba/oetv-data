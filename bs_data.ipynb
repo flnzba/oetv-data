{
 "cells": [
  {
   "cell_type": "code",
   "execution_count": 2,
   "id": "6efb327c",
   "metadata": {},
   "outputs": [],
   "source": [
    "from bs4 import BeautifulSoup\n",
    "import requests"
   ]
  },
  {
   "cell_type": "code",
   "execution_count": 3,
   "id": "9d0c68b4",
   "metadata": {},
   "outputs": [],
   "source": [
    "url = 'https://www.oetv.at/rangliste/itn.html'\n",
    "\n",
    "result = requests.get(url, timeout=20)\n",
    "\n",
    "site = BeautifulSoup(result.text, \"html.parser\")"
   ]
  },
  {
   "cell_type": "code",
   "execution_count": 4,
   "id": "32677d08",
   "metadata": {},
   "outputs": [
    {
     "name": "stdout",
     "output_type": "stream",
     "text": [
      "<bound method Tag.prettify of <table class=\"table table-condensed table-striped\"> <thead> <tr> <th>ITN</th> <th>Name <small>(Nation)</small></th> <th>Lizenz</th> <th>Jahrgang</th> <th>Verein</th> <th>Region</th> </tr> </thead> <tbody> <tr> <td>1,100</td> <td> <a href=\"/spieler/detail/itn/pi/NU537867.html\"> Basilashvili, Nikoloz <small>(GEO)</small> </a> </td> <td>339783</td> <td>1992</td> <td>TC Harland</td> <td>NÖTV</td> </tr> <tr> <td>1,200</td> <td> <a href=\"/spieler/detail/itn/pi/NU749148.html\"> Bagnis, Facundo <small>(ARG)</small> </a> </td> <td>527149</td> <td>1990</td> <td>TC GM-Sports Anif</td> <td>STV</td> </tr> <tr> <td>1,200</td> <td> <a href=\"/spieler/detail/itn/pi/NU438634.html\"> Fucsovics, Márton <small>(HUN)</small> </a> </td> <td>281449</td> <td>1992</td> <td>Union Stein&amp;Co Mauthausen</td> <td>OÖTV</td> </tr> <tr> <td>1,250</td> <td> <a href=\"/spieler/detail/itn/pi/NU749687.html\"> Seppi, Andreas <small>(ITA)</small> </a> </td> <td>527224</td> <td>1984</td> <td>TC GM-Sports Anif</td> <td>STV</td> </tr> <tr> <td>1,250</td> <td> <a href=\"/spieler/detail/itn/pi/NU298009.html\"> Gojowczyk, Peter <small>(GER)</small> </a> </td> <td>200561</td> <td>1989</td> <td>ATV RE team future IRDNING</td> <td>STTV</td> </tr> <tr> <td>1,250</td> <td> <a href=\"/spieler/detail/itn/pi/NU498162.html\"> Giannessi, Alessandro <small>(ITA)</small> </a> </td> <td>303672</td> <td>1990</td> <td>TC GM-Sports Anif</td> <td>STV</td> </tr> <tr> <td>1,250</td> <td> <a href=\"/spieler/detail/itn/pi/NU210209.html\"> Rola, Blaz <small>(SLO)</small> </a> </td> <td>174762</td> <td>1990</td> <td>Union Stein&amp;Co Mauthausen</td> <td>OÖTV</td> </tr> <tr> <td>1,250</td> <td> <a href=\"/spieler/detail/itn/pi/NU274393.html\"> Moraing, Mats <small>(GER)</small> </a> </td> <td>176295</td> <td>1992</td> <td>ATV RE team future IRDNING</td> <td>STTV</td> </tr> <tr> <td>1,250</td> <td> <a href=\"/spieler/detail/itn/pi/NU530608.html\"> Kovalik, Jozef <small>(SVK)</small> </a> </td> <td>338233</td> <td>1992</td> <td>TC Harland</td> <td>NÖTV</td> </tr> <tr> <td>1,250</td> <td> <a href=\"/spieler/detail/itn/pi/NU58878.html\"> Novak, Dennis </a> </td> <td>80009</td> <td>1993</td> <td>ATV RE team future IRDNING</td> <td>STTV</td> </tr> <tr> <td>1,250</td> <td> <a href=\"/spieler/detail/itn/pi/NU11434.html\"> Thiem, Dominic </a> </td> <td>7739</td> <td>1993</td> <td>Alt Erlaaer TC</td> <td>WTV</td> </tr> <tr> <td>1,250</td> <td> <a href=\"/spieler/detail/itn/pi/NU749155.html\"> Jarry, Nicolas <small>(CHI)</small> </a> </td> <td>527154</td> <td>1995</td> <td>TC GM-Sports Anif</td> <td>STV</td> </tr> <tr> <td>1,250</td> <td> <a href=\"/spieler/detail/itn/pi/NU86881.html\"> Ofner, Sebastian </a> </td> <td>120407</td> <td>1996</td> <td>ATV RE team future IRDNING</td> <td>STTV</td> </tr> <tr> <td>1,250</td> <td> <a href=\"/spieler/detail/itn/pi/NU131269.html\"> Rodionov, Jurij </a> </td> <td>123225</td> <td>1999</td> <td>Wiener Athletiksport Club</td> <td>WTV</td> </tr> <tr> <td>1,250</td> <td> <a href=\"/spieler/detail/itn/pi/NU241262.html\"> Misolic, Filip </a> </td> <td>152761</td> <td>2001</td> <td>ATV RE team future IRDNING</td> <td>STTV</td> </tr> <tr> <td>1,300</td> <td> <a href=\"/spieler/detail/itn/pi/NU178702.html\"> Vanni, Luca <small>(ITA)</small> </a> </td> <td>501622</td> <td>1985</td> <td>TC St. Johann</td> <td>STV</td> </tr> <tr> <td>1,300</td> <td> <a href=\"/spieler/detail/itn/pi/NU68139.html\"> Rosol, Lukas <small>(CZE)</small> </a> </td> <td>93118</td> <td>1985</td> <td>UTC Sparkasse Radstadt</td> <td>STV</td> </tr> <tr> <td>1,300</td> <td> <a href=\"/spieler/detail/itn/pi/NU382972.html\"> Balazs, Attila <small>(HUN)</small> </a> </td> <td>250699</td> <td>1989</td> <td>Union Stein&amp;Co Mauthausen</td> <td>OÖTV</td> </tr> <tr> <td>1,300</td> <td> <a href=\"/spieler/detail/itn/pi/NU163292.html\"> Neuchrist, Maximilian </a> </td> <td>70013</td> <td>1991</td> <td>Wiener Athletiksport Club</td> <td>WTV</td> </tr> <tr> <td>1,300</td> <td> <a href=\"/spieler/detail/itn/pi/NU715060.html\"> Kicker, Nicolas </a> </td> <td>489141</td> <td>1992</td> <td>UTC Casa Moda Steyr</td> <td>OÖTV</td> </tr> <tr> <td>1,300</td> <td> <a href=\"/spieler/detail/itn/pi/NU744463.html\"> Lenz, Julian <small>(GER)</small> </a> </td> <td>510167</td> <td>1993</td> <td>ATV RE team future IRDNING</td> <td>STTV</td> </tr> <tr> <td>1,300</td> <td> <a href=\"/spieler/detail/itn/pi/NU713274.html\"> Masur, Daniel <small>(GER)</small> </a> </td> <td>485934</td> <td>1994</td> <td>TC Harland</td> <td>NÖTV</td> </tr> <tr> <td>1,300</td> <td> <a href=\"/spieler/detail/itn/pi/NU594573.html\"> Sachko, Vitaliy <small>(UKR)</small> </a> </td> <td>384921</td> <td>1997</td> <td>UTC Casa Moda Steyr</td> <td>OÖTV</td> </tr> <tr> <td>1,300</td> <td> <a href=\"/spieler/detail/itn/pi/NU749286.html\"> Gojo, Borna <small>(CRO)</small> </a> </td> <td>513050</td> <td>1998</td> <td>TC Telfs</td> <td>TTV</td> </tr> <tr> <td>1,300</td> <td> <a href=\"/spieler/detail/itn/pi/NU686028.html\"> Klein, Lukas <small>(SVK)</small> </a> </td> <td>459471</td> <td>1998</td> <td>UTC Casa Moda Steyr</td> <td>OÖTV</td> </tr> <tr> <td class=\"nopadding\" colspan=\"6\"><div class=\"banner-wrapper banner-single-random\"><ins data-revive-id=\"2cbc24d3b033df41d98250ce412dde37\" data-revive-zoneid=\"9\"></ins> <script async=\"\" src=\"//ads.oetv.at/www/delivery/asyncjs.php\"></script></div></td> </tr> <tr> <td>1,300</td> <td> <a href=\"/spieler/detail/itn/pi/NU620439.html\"> Piros, Zsombor <small>(HUN)</small> </a> </td> <td>404974</td> <td>1999</td> <td>Union Stein&amp;Co Mauthausen</td> <td>OÖTV</td> </tr> <tr> <td>1,300</td> <td> <a href=\"/spieler/detail/itn/pi/NU289494.html\"> Shevchenko, Alexander <small>(RUS)</small> </a> </td> <td>187011</td> <td>2000</td> <td>UTC Sparkasse Radstadt</td> <td>STV</td> </tr> <tr> <td>1,300</td> <td> <a href=\"/spieler/detail/itn/pi/NU279263.html\"> Neumayer, Lukas </a> </td> <td>179276</td> <td>2002</td> <td>UTC Sparkasse Radstadt</td> <td>STV</td> </tr> <tr> <td>1,350</td> <td> <a href=\"/spieler/detail/itn/pi/NU749197.html\"> Menendez Maceiras, Adrian <small>(ESP)</small> </a> </td> <td>527165</td> <td>1985</td> <td>TC GM-Sports Anif</td> <td>STV</td> </tr> <tr> <td>1,350</td> <td> <a href=\"/spieler/detail/itn/pi/NU620211.html\"> Kavcic, Blaz <small>(SLO)</small> </a> </td> <td>408306</td> <td>1987</td> <td>UTC Gotschlich Strassburg</td> <td>KTV</td> </tr> <tr> <td>1,350</td> <td> <a href=\"/spieler/detail/itn/pi/NU646056.html\"> Bachinger, Matthias <small>(GER)</small> </a> </td> <td>426904</td> <td>1987</td> <td>TC GM-Sports Anif</td> <td>STV</td> </tr> <tr> <td>1,350</td> <td> <a href=\"/spieler/detail/itn/pi/NU351773.html\"> Viola, Matteo <small>(ITA)</small> </a> </td> <td>236791</td> <td>1987</td> <td>UTC Casa Moda Steyr</td> <td>OÖTV</td> </tr> <tr> <td>1,350</td> <td> <a href=\"/spieler/detail/itn/pi/NU749688.html\"> Marcora, Roberto <small>(ITA)</small> </a> </td> <td>527226</td> <td>1989</td> <td>TC GM-Sports Anif</td> <td>STV</td> </tr> <tr> <td>1,350</td> <td> <a href=\"/spieler/detail/itn/pi/NU16090.html\"> Melzer, Gerald </a> </td> <td>7068</td> <td>1990</td> <td>ATV RE team future IRDNING</td> <td>STTV</td> </tr> <tr> <td>1,350</td> <td> <a href=\"/spieler/detail/itn/pi/NU646444.html\"> Safwat, Mohamed <small>(EGY)</small> </a> </td> <td>427123</td> <td>1990</td> <td>Wiener Athletiksport Club</td> <td>WTV</td> </tr> <tr> <td>1,350</td> <td> <a href=\"/spieler/detail/itn/pi/NU272200.html\"> Heller, Peter <small>(GER)</small> </a> </td> <td>175206</td> <td>1992</td> <td>TC GM-Sports Anif</td> <td>STV</td> </tr> <tr> <td>1,350</td> <td> <a href=\"/spieler/detail/itn/pi/NU620061.html\"> Ejupovic, Elmar <small>(GER)</small> </a> </td> <td>408238</td> <td>1993</td> <td>TV Hochwolkersdorf</td> <td>NÖTV</td> </tr> <tr> <td>1,350</td> <td> <a href=\"/spieler/detail/itn/pi/NU713160.html\"> Vanneste, Jeroen <small>(BEL)</small> </a> </td> <td>488541</td> <td>1994</td> <td>TC GM-Sports Anif</td> <td>STV</td> </tr> <tr> <td>1,350</td> <td> <a href=\"/spieler/detail/itn/pi/NU533230.html\"> Gengel, Marek <small>(CZE)</small> </a> </td> <td>338865</td> <td>1995</td> <td>TC Raiffeisen Schwaz</td> <td>TTV</td> </tr> <tr> <td>1,350</td> <td> <a href=\"/spieler/detail/itn/pi/NU90229.html\"> Pichler, David </a> </td> <td>119823</td> <td>1996</td> <td>TC Haydnbräu St. Margarethen</td> <td>BTV</td> </tr> <tr> <td>1,350</td> <td> <a href=\"/spieler/detail/itn/pi/NU82753.html\"> Miedler, Lucas </a> </td> <td>92182</td> <td>1996</td> <td>ATV RE team future IRDNING</td> <td>STTV</td> </tr> <tr> <td>1,350</td> <td> <a href=\"/spieler/detail/itn/pi/NU716684.html\"> Dougaz, Aziz <small>(TUN)</small> </a> </td> <td>489758</td> <td>1997</td> <td>TC Seebenstein Schiltern</td> <td>NÖTV</td> </tr> <tr> <td>1,350</td> <td> <a href=\"/spieler/detail/itn/pi/NU561386.html\"> Bobrov, Bogdan <small>(RUS)</small> </a> </td> <td>357369</td> <td>1997</td> <td>Wiener Athletiksport Club</td> <td>WTV</td> </tr> <tr> <td>1,350</td> <td> <a href=\"/spieler/detail/itn/pi/NU716758.html\"> Marozsan, Fabian <small>(HUN)</small> </a> </td> <td>489786</td> <td>1999</td> <td>Union Stein&amp;Co Mauthausen</td> <td>OÖTV</td> </tr> <tr> <td>1,350</td> <td> <a href=\"/spieler/detail/itn/pi/NU194423.html\"> Kopp, Sandro </a> </td> <td>142328</td> <td>2000</td> <td>TC GM-Sports Anif</td> <td>STV</td> </tr> <tr> <td>1,350</td> <td> <a href=\"/spieler/detail/itn/pi/NU750105.html\"> Gimeno Valero, Carlos <small>(ESP)</small> </a> </td> <td>527288</td> <td>2001</td> <td>TC GM-Sports Anif</td> <td>STV</td> </tr> <tr> <td>1,400</td> <td> <a href=\"/spieler/detail/itn/pi/NU435253.html\"> Kalenichenko, Danylo <small>(UKR)</small> </a> </td> <td>281217</td> <td>1994</td> <td>UTC Volksbank Waidhofen/Ybbs</td> <td>NÖTV</td> </tr> <tr> <td>1,400</td> <td> <a href=\"/spieler/detail/itn/pi/NU532363.html\"> Negritu, Christoph <small>(GER)</small> </a> </td> <td>329644</td> <td>1994</td> <td>UTC Amstetten</td> <td>NÖTV</td> </tr> <tr> <td>1,400</td> <td> <a href=\"/spieler/detail/itn/pi/NU558771.html\"> Safranek, Vaclav <small>(CZE)</small> </a> </td> <td>358665</td> <td>1994</td> <td>TC Harland</td> <td>NÖTV</td> </tr> <tr> <td>1,400</td> <td> <a href=\"/spieler/detail/itn/pi/NU357301.html\"> Madarasz, Gergely <small>(HUN)</small> </a> </td> <td>238007</td> <td>1994</td> <td>Union Stein&amp;Co Mauthausen</td> <td>OÖTV</td> </tr> <tr> <td class=\"nopadding\" colspan=\"6\"><div class=\"banner-wrapper banner-single-random\"><ins data-revive-id=\"2cbc24d3b033df41d98250ce412dde37\" data-revive-zoneid=\"10\"></ins> <script async=\"\" src=\"//ads.oetv.at/www/delivery/asyncjs.php\"></script></div></td> </tr> </tbody> </table>>\n"
     ]
    }
   ],
   "source": [
    "print(site.table.prettify)\n",
    "\n",
    "# itn = site.find(text=\"ITN\")\n",
    "# parent_itn = itn[0].parent\n",
    "# print(site.prettify)\n",
    "# header = parent_itn.find(\"header\")\n",
    "# print(header.string) #print what was found within the first parent in the header of the table?"
   ]
  }
 ],
 "metadata": {
  "kernelspec": {
   "display_name": "oetv",
   "language": "python",
   "name": "python3"
  },
  "language_info": {
   "codemirror_mode": {
    "name": "ipython",
    "version": 3
   },
   "file_extension": ".py",
   "mimetype": "text/x-python",
   "name": "python",
   "nbconvert_exporter": "python",
   "pygments_lexer": "ipython3",
   "version": "3.10.6 (main, Oct 24 2022, 11:04:34) [Clang 12.0.0 ]"
  },
  "vscode": {
   "interpreter": {
    "hash": "1543e8f0d100ed1396280aca419e1208a99dd86e15a356103f63112409fe9f33"
   }
  }
 },
 "nbformat": 4,
 "nbformat_minor": 5
}
